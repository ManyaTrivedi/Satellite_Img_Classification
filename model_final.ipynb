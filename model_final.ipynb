{
  "nbformat": 4,
  "nbformat_minor": 0,
  "metadata": {
    "colab": {
      "provenance": [],
      "gpuType": "T4"
    },
    "kernelspec": {
      "name": "python3",
      "display_name": "Python 3"
    },
    "language_info": {
      "name": "python"
    },
    "accelerator": "GPU"
  },
  "cells": [
    {
      "cell_type": "code",
      "execution_count": 1,
      "metadata": {
        "id": "ClQKB9CWDu-t"
      },
      "outputs": [],
      "source": [
        "!mkdir -p ~/.kaggle\n",
        "!cp kaggle.json ~/.kaggle/"
      ]
    },
    {
      "cell_type": "code",
      "source": [
        "!kaggle datasets download -d mahmoudreda55/satellite-image-classification"
      ],
      "metadata": {
        "colab": {
          "base_uri": "https://localhost:8080/"
        },
        "id": "iUSceyBXD1Vx",
        "outputId": "71a9d63c-301f-4251-f829-81a0a39a8177"
      },
      "execution_count": 12,
      "outputs": [
        {
          "output_type": "stream",
          "name": "stdout",
          "text": [
            "Warning: Your Kaggle API key is readable by other users on this system! To fix this, you can run 'chmod 600 /root/.kaggle/kaggle.json'\n",
            "satellite-image-classification.zip: Skipping, found more recently modified local copy (use --force to force download)\n"
          ]
        }
      ]
    },
    {
      "cell_type": "code",
      "source": [
        "import zipfile\n",
        "zip_ref= zipfile.ZipFile('/content/satellite-image-classification.zip','r')\n",
        "zip_ref.extractall('/content')\n",
        "zip_ref.close()"
      ],
      "metadata": {
        "id": "OAHaI_3kD1U5"
      },
      "execution_count": 13,
      "outputs": []
    },
    {
      "cell_type": "code",
      "source": [
        "import numpy as np\n",
        "import pandas as pd\n",
        "import matplotlib.pyplot as plt\n",
        "import seaborn as sns\n",
        "import sklearn\n",
        "\n",
        "import tensorflow\n",
        "from tensorflow import keras\n",
        "from tensorflow.keras.utils import to_categorical\n",
        "from keras import Sequential\n",
        "\n",
        "import cv2\n",
        "import os"
      ],
      "metadata": {
        "id": "zlfn0jJzD1Nw"
      },
      "execution_count": 14,
      "outputs": []
    },
    {
      "cell_type": "code",
      "source": [
        "classes = ['cloudy','desert','green_area','water']\n",
        "dir = \"/content/data\"\n",
        "\n",
        "img_shape =[224,224]\n",
        "\n",
        "data = []\n",
        "\n",
        "def loading_data():\n",
        "  for category in classes:\n",
        "    path  = os.path.join(dir,category)\n",
        "    class_num = classes.index(category)\n",
        "    i = 0\n",
        "    for img in os.listdir(path):\n",
        "      if i != 500 :\n",
        "        img_array = cv2.imread(os.path.join(path,img))\n",
        "        rgb_array = cv2.cvtColor(img_array,cv2.COLOR_BGR2RGB)\n",
        "        resize_array = cv2.resize(rgb_array,img_shape)\n",
        "        data.append([resize_array,class_num])\n",
        "        i = i+1\n",
        "      else :\n",
        "        continue\n",
        "\n",
        "loading_data()"
      ],
      "metadata": {
        "id": "Y5JZ46nuD1M7"
      },
      "execution_count": 15,
      "outputs": []
    },
    {
      "cell_type": "code",
      "source": [
        "X = []\n",
        "y = []\n",
        "for img,cls in data:\n",
        "  X.append(img)\n",
        "  y.append(cls)"
      ],
      "metadata": {
        "id": "Le6o5o9sD1G-"
      },
      "execution_count": 16,
      "outputs": []
    },
    {
      "cell_type": "code",
      "source": [
        "X = np.array(X).reshape(-1,224,224)\n",
        "print(X.shape)"
      ],
      "metadata": {
        "colab": {
          "base_uri": "https://localhost:8080/"
        },
        "id": "kZkQifJZD1GQ",
        "outputId": "92421052-3568-426c-95ed-958e4dbd7dc5"
      },
      "execution_count": 17,
      "outputs": [
        {
          "output_type": "stream",
          "name": "stdout",
          "text": [
            "(6000, 224, 224)\n"
          ]
        }
      ]
    },
    {
      "cell_type": "code",
      "source": [
        "X = X / 255.00\n",
        "X = X.reshape(-1,224,224,3)\n",
        "X.shape"
      ],
      "metadata": {
        "colab": {
          "base_uri": "https://localhost:8080/"
        },
        "id": "xxJPxMx-D1BJ",
        "outputId": "7fc1139c-646e-46bf-e9e0-d75b8ffa62ba"
      },
      "execution_count": 18,
      "outputs": [
        {
          "output_type": "execute_result",
          "data": {
            "text/plain": [
              "(2000, 224, 224, 3)"
            ]
          },
          "metadata": {},
          "execution_count": 18
        }
      ]
    },
    {
      "cell_type": "code",
      "source": [
        "print(\"Unique classes : \",np.unique(np.array(y)))\n",
        "print('\\n')\n",
        "print(\"Count of classes : \")\n",
        "pd.DataFrame(y).value_counts()"
      ],
      "metadata": {
        "colab": {
          "base_uri": "https://localhost:8080/"
        },
        "id": "Nqee6YCzD1AU",
        "outputId": "33336544-2970-4b1f-aa55-d5a06b26a0bb"
      },
      "execution_count": 19,
      "outputs": [
        {
          "output_type": "stream",
          "name": "stdout",
          "text": [
            "Unique classes :  [0 1 2 3]\n",
            "\n",
            "\n",
            "Count of classes : \n"
          ]
        },
        {
          "output_type": "execute_result",
          "data": {
            "text/plain": [
              "0    500\n",
              "1    500\n",
              "2    500\n",
              "3    500\n",
              "dtype: int64"
            ]
          },
          "metadata": {},
          "execution_count": 19
        }
      ]
    },
    {
      "cell_type": "code",
      "source": [
        "from sklearn.model_selection import train_test_split\n",
        "\n",
        "X_train , X_val , y_train , y_val = train_test_split(X, y ,test_size= 0.2,random_state= 42,shuffle = True)"
      ],
      "metadata": {
        "id": "1Nziyis4D07V"
      },
      "execution_count": 20,
      "outputs": []
    },
    {
      "cell_type": "code",
      "source": [
        "import tensorflow\n",
        "y_train = tensorflow.keras.utils.to_categorical(y_train, 4)"
      ],
      "metadata": {
        "id": "egHRyzOwYqyx"
      },
      "execution_count": 21,
      "outputs": []
    },
    {
      "cell_type": "code",
      "source": [
        "y_val = tensorflow.keras.utils.to_categorical(y_val, 4)"
      ],
      "metadata": {
        "id": "xGgXK5YvZguM"
      },
      "execution_count": 22,
      "outputs": []
    },
    {
      "cell_type": "code",
      "source": [
        "print('X train shape : ',X_train.shape)\n",
        "print('y train shape : ',y_train.shape)\n",
        "print('\\n')\n",
        "print('X test shape : ',X_val.shape)\n",
        "print('y test shape : ',y_val.shape)"
      ],
      "metadata": {
        "colab": {
          "base_uri": "https://localhost:8080/"
        },
        "id": "7_b-r-kxYkHT",
        "outputId": "0786fef6-d2ed-4641-ea65-ce0fb232aa34"
      },
      "execution_count": 23,
      "outputs": [
        {
          "output_type": "stream",
          "name": "stdout",
          "text": [
            "X train shape :  (1600, 224, 224, 3)\n",
            "y train shape :  (1600, 4)\n",
            "\n",
            "\n",
            "X test shape :  (400, 224, 224, 3)\n",
            "y test shape :  (400, 4)\n"
          ]
        }
      ]
    },
    {
      "cell_type": "code",
      "source": [
        "from keras.layers import Dense,Conv2D,MaxPooling2D,Flatten\n",
        "from keras.layers import  Dropout\n",
        "from keras.callbacks import EarlyStopping"
      ],
      "metadata": {
        "id": "5m5CNkcZJGeA"
      },
      "execution_count": 24,
      "outputs": []
    },
    {
      "cell_type": "code",
      "source": [],
      "metadata": {
        "id": "0kgG6oDsgrlb"
      },
      "execution_count": 24,
      "outputs": []
    },
    {
      "cell_type": "markdown",
      "source": [
        "Using VGG19"
      ],
      "metadata": {
        "id": "N1tMQWJM3Yq7"
      }
    },
    {
      "cell_type": "code",
      "source": [
        "from keras.applications.vgg19 import VGG19"
      ],
      "metadata": {
        "id": "sBfjehPZcELw"
      },
      "execution_count": 25,
      "outputs": []
    },
    {
      "cell_type": "code",
      "source": [
        "conv_base2 = VGG19(weights = 'imagenet' , include_top=False , input_shape = (224,224,3))"
      ],
      "metadata": {
        "colab": {
          "base_uri": "https://localhost:8080/"
        },
        "id": "O6gDWiGBcqWW",
        "outputId": "a45063bf-269f-42a7-8ab7-c89dc2c01bc4"
      },
      "execution_count": 26,
      "outputs": [
        {
          "output_type": "stream",
          "name": "stdout",
          "text": [
            "Downloading data from https://storage.googleapis.com/tensorflow/keras-applications/vgg19/vgg19_weights_tf_dim_ordering_tf_kernels_notop.h5\n",
            "80134624/80134624 [==============================] - 5s 0us/step\n"
          ]
        }
      ]
    },
    {
      "cell_type": "markdown",
      "source": [
        "Model3"
      ],
      "metadata": {
        "id": "8DD5TCCX3cI9"
      }
    },
    {
      "cell_type": "code",
      "source": [
        "model3 = Sequential()\n",
        "\n",
        "model3.add(conv_base2)\n",
        "model3.add(Flatten())\n",
        "model3.add(Dense(256,activation='relu'))\n",
        "model3.add(Dense(4,activation='softmax'))"
      ],
      "metadata": {
        "id": "YPUVnPGHcqL7"
      },
      "execution_count": 27,
      "outputs": []
    },
    {
      "cell_type": "code",
      "source": [
        "model3.summary()"
      ],
      "metadata": {
        "colab": {
          "base_uri": "https://localhost:8080/"
        },
        "id": "vlZSsKy4cqDZ",
        "outputId": "b6fc23b5-264d-49d8-9218-0591152c3c3d"
      },
      "execution_count": 28,
      "outputs": [
        {
          "output_type": "stream",
          "name": "stdout",
          "text": [
            "Model: \"sequential\"\n",
            "_________________________________________________________________\n",
            " Layer (type)                Output Shape              Param #   \n",
            "=================================================================\n",
            " vgg19 (Functional)          (None, 7, 7, 512)         20024384  \n",
            "                                                                 \n",
            " flatten (Flatten)           (None, 25088)             0         \n",
            "                                                                 \n",
            " dense (Dense)               (None, 256)               6422784   \n",
            "                                                                 \n",
            " dense_1 (Dense)             (None, 4)                 1028      \n",
            "                                                                 \n",
            "=================================================================\n",
            "Total params: 26448196 (100.89 MB)\n",
            "Trainable params: 26448196 (100.89 MB)\n",
            "Non-trainable params: 0 (0.00 Byte)\n",
            "_________________________________________________________________\n"
          ]
        }
      ]
    },
    {
      "cell_type": "code",
      "source": [
        "conv_base2.trainable = False"
      ],
      "metadata": {
        "id": "_Asw7IkDfHQQ"
      },
      "execution_count": 29,
      "outputs": []
    },
    {
      "cell_type": "code",
      "source": [
        "model3.summary()"
      ],
      "metadata": {
        "colab": {
          "base_uri": "https://localhost:8080/"
        },
        "id": "tNoqx11LfzFU",
        "outputId": "799e21e6-c6ff-4624-ec2b-c6c68821d2c9"
      },
      "execution_count": 30,
      "outputs": [
        {
          "output_type": "stream",
          "name": "stdout",
          "text": [
            "Model: \"sequential\"\n",
            "_________________________________________________________________\n",
            " Layer (type)                Output Shape              Param #   \n",
            "=================================================================\n",
            " vgg19 (Functional)          (None, 7, 7, 512)         20024384  \n",
            "                                                                 \n",
            " flatten (Flatten)           (None, 25088)             0         \n",
            "                                                                 \n",
            " dense (Dense)               (None, 256)               6422784   \n",
            "                                                                 \n",
            " dense_1 (Dense)             (None, 4)                 1028      \n",
            "                                                                 \n",
            "=================================================================\n",
            "Total params: 26448196 (100.89 MB)\n",
            "Trainable params: 6423812 (24.50 MB)\n",
            "Non-trainable params: 20024384 (76.39 MB)\n",
            "_________________________________________________________________\n"
          ]
        }
      ]
    },
    {
      "cell_type": "code",
      "source": [
        "model3.compile(loss = \"categorical_crossentropy\", optimizer='adam',metrics = ['accuracy'])"
      ],
      "metadata": {
        "id": "hZuDbgu9f0ip"
      },
      "execution_count": 31,
      "outputs": []
    },
    {
      "cell_type": "code",
      "source": [
        "history_3 = model3.fit(X_train, y_train, batch_size = 32, epochs = 30, validation_data = (X_val, y_val))"
      ],
      "metadata": {
        "colab": {
          "base_uri": "https://localhost:8080/"
        },
        "id": "e5tILrYKf6QF",
        "outputId": "ba9ad9ce-0ffc-4b64-e15d-344e7c4f26f4"
      },
      "execution_count": 32,
      "outputs": [
        {
          "output_type": "stream",
          "name": "stdout",
          "text": [
            "Epoch 1/30\n",
            "50/50 [==============================] - 28s 271ms/step - loss: 1.1244 - accuracy: 0.6144 - val_loss: 0.6488 - val_accuracy: 0.6675\n",
            "Epoch 2/30\n",
            "50/50 [==============================] - 9s 178ms/step - loss: 0.5097 - accuracy: 0.7631 - val_loss: 0.4482 - val_accuracy: 0.7950\n",
            "Epoch 3/30\n",
            "50/50 [==============================] - 10s 197ms/step - loss: 0.3381 - accuracy: 0.8856 - val_loss: 0.3406 - val_accuracy: 0.7875\n",
            "Epoch 4/30\n",
            "50/50 [==============================] - 10s 197ms/step - loss: 0.3150 - accuracy: 0.8712 - val_loss: 0.2695 - val_accuracy: 0.9450\n",
            "Epoch 5/30\n",
            "50/50 [==============================] - 10s 200ms/step - loss: 0.2414 - accuracy: 0.9131 - val_loss: 0.3026 - val_accuracy: 0.8550\n",
            "Epoch 6/30\n",
            "50/50 [==============================] - 10s 203ms/step - loss: 0.2100 - accuracy: 0.9287 - val_loss: 0.1574 - val_accuracy: 0.9575\n",
            "Epoch 7/30\n",
            "50/50 [==============================] - 10s 205ms/step - loss: 0.2115 - accuracy: 0.9181 - val_loss: 0.1662 - val_accuracy: 0.9650\n",
            "Epoch 8/30\n",
            "50/50 [==============================] - 10s 208ms/step - loss: 0.1895 - accuracy: 0.9381 - val_loss: 0.3174 - val_accuracy: 0.8450\n",
            "Epoch 9/30\n",
            "50/50 [==============================] - 11s 213ms/step - loss: 0.2260 - accuracy: 0.9181 - val_loss: 0.1621 - val_accuracy: 0.9600\n",
            "Epoch 10/30\n",
            "50/50 [==============================] - 10s 208ms/step - loss: 0.1411 - accuracy: 0.9544 - val_loss: 0.1106 - val_accuracy: 0.9800\n",
            "Epoch 11/30\n",
            "50/50 [==============================] - 10s 209ms/step - loss: 0.1218 - accuracy: 0.9644 - val_loss: 0.1535 - val_accuracy: 0.9275\n",
            "Epoch 12/30\n",
            "50/50 [==============================] - 10s 206ms/step - loss: 0.1282 - accuracy: 0.9581 - val_loss: 0.1099 - val_accuracy: 0.9625\n",
            "Epoch 13/30\n",
            "50/50 [==============================] - 11s 214ms/step - loss: 0.1095 - accuracy: 0.9712 - val_loss: 0.2241 - val_accuracy: 0.8950\n",
            "Epoch 14/30\n",
            "50/50 [==============================] - 11s 212ms/step - loss: 0.1000 - accuracy: 0.9681 - val_loss: 0.0894 - val_accuracy: 0.9775\n",
            "Epoch 15/30\n",
            "50/50 [==============================] - 11s 211ms/step - loss: 0.0801 - accuracy: 0.9812 - val_loss: 0.0842 - val_accuracy: 0.9800\n",
            "Epoch 16/30\n",
            "50/50 [==============================] - 10s 200ms/step - loss: 0.0858 - accuracy: 0.9775 - val_loss: 0.0966 - val_accuracy: 0.9775\n",
            "Epoch 17/30\n",
            "50/50 [==============================] - 10s 204ms/step - loss: 0.1070 - accuracy: 0.9681 - val_loss: 0.1565 - val_accuracy: 0.9300\n",
            "Epoch 18/30\n",
            "50/50 [==============================] - 11s 215ms/step - loss: 0.2358 - accuracy: 0.9044 - val_loss: 0.1153 - val_accuracy: 0.9675\n",
            "Epoch 19/30\n",
            "50/50 [==============================] - 10s 205ms/step - loss: 0.0780 - accuracy: 0.9769 - val_loss: 0.1239 - val_accuracy: 0.9575\n",
            "Epoch 20/30\n",
            "50/50 [==============================] - 11s 214ms/step - loss: 0.0733 - accuracy: 0.9794 - val_loss: 0.0724 - val_accuracy: 0.9750\n",
            "Epoch 21/30\n",
            "50/50 [==============================] - 11s 215ms/step - loss: 0.0729 - accuracy: 0.9787 - val_loss: 0.0939 - val_accuracy: 0.9700\n",
            "Epoch 22/30\n",
            "50/50 [==============================] - 11s 215ms/step - loss: 0.0867 - accuracy: 0.9675 - val_loss: 0.0952 - val_accuracy: 0.9725\n",
            "Epoch 23/30\n",
            "50/50 [==============================] - 11s 215ms/step - loss: 0.0626 - accuracy: 0.9825 - val_loss: 0.0663 - val_accuracy: 0.9800\n",
            "Epoch 24/30\n",
            "50/50 [==============================] - 10s 204ms/step - loss: 0.0584 - accuracy: 0.9869 - val_loss: 0.0648 - val_accuracy: 0.9825\n",
            "Epoch 25/30\n",
            "50/50 [==============================] - 11s 215ms/step - loss: 0.0531 - accuracy: 0.9869 - val_loss: 0.0569 - val_accuracy: 0.9850\n",
            "Epoch 26/30\n",
            "50/50 [==============================] - 10s 204ms/step - loss: 0.0616 - accuracy: 0.9831 - val_loss: 0.0577 - val_accuracy: 0.9825\n",
            "Epoch 27/30\n",
            "50/50 [==============================] - 11s 215ms/step - loss: 0.1042 - accuracy: 0.9600 - val_loss: 0.0725 - val_accuracy: 0.9775\n",
            "Epoch 28/30\n",
            "50/50 [==============================] - 10s 203ms/step - loss: 0.0891 - accuracy: 0.9663 - val_loss: 0.0550 - val_accuracy: 0.9850\n",
            "Epoch 29/30\n",
            "50/50 [==============================] - 11s 215ms/step - loss: 0.0679 - accuracy: 0.9756 - val_loss: 0.0671 - val_accuracy: 0.9725\n",
            "Epoch 30/30\n",
            "50/50 [==============================] - 10s 204ms/step - loss: 0.0604 - accuracy: 0.9837 - val_loss: 0.0566 - val_accuracy: 0.9825\n"
          ]
        }
      ]
    },
    {
      "cell_type": "code",
      "source": [
        "plt.plot(history_3.history['accuracy'],color='blue',label='train_accuracy')\n",
        "plt.plot(history_3.history['val_accuracy'],color='red',label='validation_accuracy')\n",
        "plt.legend()\n",
        "plt.show()"
      ],
      "metadata": {
        "colab": {
          "base_uri": "https://localhost:8080/",
          "height": 430
        },
        "id": "BG2MG6a6f6O8",
        "outputId": "4488e111-efbf-4966-fea9-486e76891e57"
      },
      "execution_count": 33,
      "outputs": [
        {
          "output_type": "display_data",
          "data": {
            "text/plain": [
              "<Figure size 640x480 with 1 Axes>"
            ],
            "image/png": "[encoded data removed]"
          },
          "metadata": {}
        }
      ]
    },
    {
      "cell_type": "code",
      "source": [
        "plt.plot(history_3.history['loss'],color='blue',label='train_loss')\n",
        "plt.plot(history_3.history['val_loss'],color='red',label='validation_loss')\n",
        "plt.legend()\n",
        "plt.show()"
      ],
      "metadata": {
        "colab": {
          "base_uri": "https://localhost:8080/",
          "height": 430
        },
        "id": "O5sGP4Nrf6I7",
        "outputId": "bf760fdf-5900-4c30-9ca5-bc6ac8ec5265"
      },
      "execution_count": 34,
      "outputs": [
        {
          "output_type": "display_data",
          "data": {
            "text/plain": [
              "<Figure size 640x480 with 1 Axes>"
            ],
            "image/png": "[encoded data removed]"
          },
          "metadata": {}
        }
      ]
    },
    {
      "cell_type": "code",
      "source": [
        "from sklearn.metrics import classification_report\n",
        "\n",
        "classes = sorted(os.listdir(dir))\n",
        "\n",
        "predict = model3.predict(X_val)\n",
        "pred_classes = np.argmax(predict,axis=1)\n",
        "\n",
        "true_classes = np.argmax(y_val,axis=1)\n",
        "\n",
        "print(classification_report(true_classes, pred_classes , target_names= classes))"
      ],
      "metadata": {
        "colab": {
          "base_uri": "https://localhost:8080/"
        },
        "id": "cdzPROT5f6Hx",
        "outputId": "b6425cbd-8289-4dd7-8b07-7364f34d9672"
      },
      "execution_count": 35,
      "outputs": [
        {
          "output_type": "stream",
          "name": "stdout",
          "text": [
            "13/13 [==============================] - 2s 154ms/step\n",
            "              precision    recall  f1-score   support\n",
            "\n",
            "      cloudy       1.00      1.00      1.00       104\n",
            "      desert       1.00      1.00      1.00        95\n",
            "  green_area       0.95      0.98      0.96        88\n",
            "       water       0.98      0.96      0.97       113\n",
            "\n",
            "    accuracy                           0.98       400\n",
            "   macro avg       0.98      0.98      0.98       400\n",
            "weighted avg       0.98      0.98      0.98       400\n",
            "\n"
          ]
        }
      ]
    },
    {
      "cell_type": "code",
      "source": [
        "from sklearn.metrics import confusion_matrix\n",
        "\n",
        "pd.DataFrame(confusion_matrix(true_classes,pred_classes) ,\n",
        "             index = ['true_cloudy','true_desert','true_green_area','true_water'],\n",
        "             columns = ['pred_cloudy','pred_desert','pred_green_area','pred_water'])"
      ],
      "metadata": {
        "colab": {
          "base_uri": "https://localhost:8080/",
          "height": 175
        },
        "id": "hQCNXAyWf6GI",
        "outputId": "33e40818-5d2b-46ac-90ec-a4e055df0dd6"
      },
      "execution_count": 36,
      "outputs": [
        {
          "output_type": "execute_result",
          "data": {
            "text/plain": [
              "                 pred_cloudy  pred_desert  pred_green_area  pred_water\n",
              "true_cloudy              104            0                0           0\n",
              "true_desert                0           95                0           0\n",
              "true_green_area            0            0               86           2\n",
              "true_water                 0            0                5         108"
            ],
            "text/html": [
              "\n",
              "  <div id=\"df-cbcdd2ed-dbca-43fd-93ef-369a73ffc1e1\" class=\"colab-df-container\">\n",
              "    <div>\n",
              "<style scoped>\n",
              "    .dataframe tbody tr th:only-of-type {\n",
              "        vertical-align: middle;\n",
              "    }\n",
              "\n",
              "    .dataframe tbody tr th {\n",
              "        vertical-align: top;\n",
              "    }\n",
              "\n",
              "    .dataframe thead th {\n",
              "        text-align: right;\n",
              "    }\n",
              "</style>\n",
              "<table border=\"1\" class=\"dataframe\">\n",
              "  <thead>\n",
              "    <tr style=\"text-align: right;\">\n",
              "      <th></th>\n",
              "      <th>pred_cloudy</th>\n",
              "      <th>pred_desert</th>\n",
              "      <th>pred_green_area</th>\n",
              "      <th>pred_water</th>\n",
              "    </tr>\n",
              "  </thead>\n",
              "  <tbody>\n",
              "    <tr>\n",
              "      <th>true_cloudy</th>\n",
              "      <td>104</td>\n",
              "      <td>0</td>\n",
              "      <td>0</td>\n",
              "      <td>0</td>\n",
              "    </tr>\n",
              "    <tr>\n",
              "      <th>true_desert</th>\n",
              "      <td>0</td>\n",
              "      <td>95</td>\n",
              "      <td>0</td>\n",
              "      <td>0</td>\n",
              "    </tr>\n",
              "    <tr>\n",
              "      <th>true_green_area</th>\n",
              "      <td>0</td>\n",
              "      <td>0</td>\n",
              "      <td>86</td>\n",
              "      <td>2</td>\n",
              "    </tr>\n",
              "    <tr>\n",
              "      <th>true_water</th>\n",
              "      <td>0</td>\n",
              "      <td>0</td>\n",
              "      <td>5</td>\n",
              "      <td>108</td>\n",
              "    </tr>\n",
              "  </tbody>\n",
              "</table>\n",
              "</div>\n",
              "    <div class=\"colab-df-buttons\">\n",
              "\n",
              "  <div class=\"colab-df-container\">\n",
              "    <button class=\"colab-df-convert\" onclick=\"convertToInteractive('df-cbcdd2ed-dbca-43fd-93ef-369a73ffc1e1')\"\n",
              "            title=\"Convert this dataframe to an interactive table.\"\n",
              "            style=\"display:none;\">\n",
              "\n",
              "  <svg xmlns=\"http://www.w3.org/2000/svg\" height=\"24px\" viewBox=\"0 -960 960 960\">\n",
              "    <path d=\"M120-120v-720h720v720H120Zm60-500h600v-160H180v160Zm220 220h160v-160H400v160Zm0 220h160v-160H400v160ZM180-400h160v-160H180v160Zm440 0h160v-160H620v160ZM180-180h160v-160H180v160Zm440 0h160v-160H620v160Z\"/>\n",
              "  </svg>\n",
              "    </button>\n",
              "\n",
              "  <style>\n",
              "    .colab-df-container {\n",
              "      display:flex;\n",
              "      gap: 12px;\n",
              "    }\n",
              "\n",
              "    .colab-df-convert {\n",
              "      background-color: #E8F0FE;\n",
              "      border: none;\n",
              "      border-radius: 50%;\n",
              "      cursor: pointer;\n",
              "      display: none;\n",
              "      fill: #1967D2;\n",
              "      height: 32px;\n",
              "      padding: 0 0 0 0;\n",
              "      width: 32px;\n",
              "    }\n",
              "\n",
              "    .colab-df-convert:hover {\n",
              "      background-color: #E2EBFA;\n",
              "      box-shadow: 0px 1px 2px rgba(60, 64, 67, 0.3), 0px 1px 3px 1px rgba(60, 64, 67, 0.15);\n",
              "      fill: #174EA6;\n",
              "    }\n",
              "\n",
              "    .colab-df-buttons div {\n",
              "      margin-bottom: 4px;\n",
              "    }\n",
              "\n",
              "    [theme=dark] .colab-df-convert {\n",
              "      background-color: #3B4455;\n",
              "      fill: #D2E3FC;\n",
              "    }\n",
              "\n",
              "    [theme=dark] .colab-df-convert:hover {\n",
              "      background-color: #434B5C;\n",
              "      box-shadow: 0px 1px 3px 1px rgba(0, 0, 0, 0.15);\n",
              "      filter: drop-shadow(0px 1px 2px rgba(0, 0, 0, 0.3));\n",
              "      fill: #FFFFFF;\n",
              "    }\n",
              "  </style>\n",
              "\n",
              "    <script>\n",
              "      const buttonEl =\n",
              "        document.querySelector('#df-cbcdd2ed-dbca-43fd-93ef-369a73ffc1e1 button.colab-df-convert');\n",
              "      buttonEl.style.display =\n",
              "        google.colab.kernel.accessAllowed ? 'block' : 'none';\n",
              "\n",
              "      async function convertToInteractive(key) {\n",
              "        const element = document.querySelector('#df-cbcdd2ed-dbca-43fd-93ef-369a73ffc1e1');\n",
              "        const dataTable =\n",
              "          await google.colab.kernel.invokeFunction('convertToInteractive',\n",
              "                                                    [key], {});\n",
              "        if (!dataTable) return;\n",
              "\n",
              "        const docLinkHtml = 'Like what you see? Visit the ' +\n",
              "          '<a target=\"_blank\" href=https://colab.research.google.com/notebooks/data_table.ipynb>data table notebook</a>'\n",
              "          + ' to learn more about interactive tables.';\n",
              "        element.innerHTML = '';\n",
              "        dataTable['output_type'] = 'display_data';\n",
              "        await google.colab.output.renderOutput(dataTable, element);\n",
              "        const docLink = document.createElement('div');\n",
              "        docLink.innerHTML = docLinkHtml;\n",
              "        element.appendChild(docLink);\n",
              "      }\n",
              "    </script>\n",
              "  </div>\n",
              "\n",
              "\n",
              "<div id=\"df-dfb3a0e1-5681-4a0d-b5aa-e78319a3e8e4\">\n",
              "  <button class=\"colab-df-quickchart\" onclick=\"quickchart('df-dfb3a0e1-5681-4a0d-b5aa-e78319a3e8e4')\"\n",
              "            title=\"Suggest charts.\"\n",
              "            style=\"display:none;\">\n",
              "\n",
              "<svg xmlns=\"http://www.w3.org/2000/svg\" height=\"24px\"viewBox=\"0 0 24 24\"\n",
              "     width=\"24px\">\n",
              "    <g>\n",
              "        <path d=\"M19 3H5c-1.1 0-2 .9-2 2v14c0 1.1.9 2 2 2h14c1.1 0 2-.9 2-2V5c0-1.1-.9-2-2-2zM9 17H7v-7h2v7zm4 0h-2V7h2v10zm4 0h-2v-4h2v4z\"/>\n",
              "    </g>\n",
              "</svg>\n",
              "  </button>\n",
              "\n",
              "<style>\n",
              "  .colab-df-quickchart {\n",
              "      --bg-color: #E8F0FE;\n",
              "      --fill-color: #1967D2;\n",
              "      --hover-bg-color: #E2EBFA;\n",
              "      --hover-fill-color: #174EA6;\n",
              "      --disabled-fill-color: #AAA;\n",
              "      --disabled-bg-color: #DDD;\n",
              "  }\n",
              "\n",
              "  [theme=dark] .colab-df-quickchart {\n",
              "      --bg-color: #3B4455;\n",
              "      --fill-color: #D2E3FC;\n",
              "      --hover-bg-color: #434B5C;\n",
              "      --hover-fill-color: #FFFFFF;\n",
              "      --disabled-bg-color: #3B4455;\n",
              "      --disabled-fill-color: #666;\n",
              "  }\n",
              "\n",
              "  .colab-df-quickchart {\n",
              "    background-color: var(--bg-color);\n",
              "    border: none;\n",
              "    border-radius: 50%;\n",
              "    cursor: pointer;\n",
              "    display: none;\n",
              "    fill: var(--fill-color);\n",
              "    height: 32px;\n",
              "    padding: 0;\n",
              "    width: 32px;\n",
              "  }\n",
              "\n",
              "  .colab-df-quickchart:hover {\n",
              "    background-color: var(--hover-bg-color);\n",
              "    box-shadow: 0 1px 2px rgba(60, 64, 67, 0.3), 0 1px 3px 1px rgba(60, 64, 67, 0.15);\n",
              "    fill: var(--button-hover-fill-color);\n",
              "  }\n",
              "\n",
              "  .colab-df-quickchart-complete:disabled,\n",
              "  .colab-df-quickchart-complete:disabled:hover {\n",
              "    background-color: var(--disabled-bg-color);\n",
              "    fill: var(--disabled-fill-color);\n",
              "    box-shadow: none;\n",
              "  }\n",
              "\n",
              "  .colab-df-spinner {\n",
              "    border: 2px solid var(--fill-color);\n",
              "    border-color: transparent;\n",
              "    border-bottom-color: var(--fill-color);\n",
              "    animation:\n",
              "      spin 1s steps(1) infinite;\n",
              "  }\n",
              "\n",
              "  @keyframes spin {\n",
              "    0% {\n",
              "      border-color: transparent;\n",
              "      border-bottom-color: var(--fill-color);\n",
              "      border-left-color: var(--fill-color);\n",
              "    }\n",
              "    20% {\n",
              "      border-color: transparent;\n",
              "      border-left-color: var(--fill-color);\n",
              "      border-top-color: var(--fill-color);\n",
              "    }\n",
              "    30% {\n",
              "      border-color: transparent;\n",
              "      border-left-color: var(--fill-color);\n",
              "      border-top-color: var(--fill-color);\n",
              "      border-right-color: var(--fill-color);\n",
              "    }\n",
              "    40% {\n",
              "      border-color: transparent;\n",
              "      border-right-color: var(--fill-color);\n",
              "      border-top-color: var(--fill-color);\n",
              "    }\n",
              "    60% {\n",
              "      border-color: transparent;\n",
              "      border-right-color: var(--fill-color);\n",
              "    }\n",
              "    80% {\n",
              "      border-color: transparent;\n",
              "      border-right-color: var(--fill-color);\n",
              "      border-bottom-color: var(--fill-color);\n",
              "    }\n",
              "    90% {\n",
              "      border-color: transparent;\n",
              "      border-bottom-color: var(--fill-color);\n",
              "    }\n",
              "  }\n",
              "</style>\n",
              "\n",
              "  <script>\n",
              "    async function quickchart(key) {\n",
              "      const quickchartButtonEl =\n",
              "        document.querySelector('#' + key + ' button');\n",
              "      quickchartButtonEl.disabled = true;  // To prevent multiple clicks.\n",
              "      quickchartButtonEl.classList.add('colab-df-spinner');\n",
              "      try {\n",
              "        const charts = await google.colab.kernel.invokeFunction(\n",
              "            'suggestCharts', [key], {});\n",
              "      } catch (error) {\n",
              "        console.error('Error during call to suggestCharts:', error);\n",
              "      }\n",
              "      quickchartButtonEl.classList.remove('colab-df-spinner');\n",
              "      quickchartButtonEl.classList.add('colab-df-quickchart-complete');\n",
              "    }\n",
              "    (() => {\n",
              "      let quickchartButtonEl =\n",
              "        document.querySelector('#df-dfb3a0e1-5681-4a0d-b5aa-e78319a3e8e4 button');\n",
              "      quickchartButtonEl.style.display =\n",
              "        google.colab.kernel.accessAllowed ? 'block' : 'none';\n",
              "    })();\n",
              "  </script>\n",
              "</div>\n",
              "    </div>\n",
              "  </div>\n"
            ]
          },
          "metadata": {},
          "execution_count": 36
        }
      ]
    },
    {
      "cell_type": "code",
      "source": [
        "model3.save(\"/content/drive/MyDrive/model1_vgg19.h5\")"
      ],
      "metadata": {
        "id": "1U5se3CwkLn-",
        "colab": {
          "base_uri": "https://localhost:8080/"
        },
        "outputId": "033aa7ce-34a1-464c-8d09-2f95d4dc9804"
      },
      "execution_count": 38,
      "outputs": [
        {
          "output_type": "stream",
          "name": "stderr",
          "text": [
            "/usr/local/lib/python3.10/dist-packages/keras/src/engine/training.py:3000: UserWarning: You are saving your model as an HDF5 file via `model.save()`. This file format is considered legacy. We recommend using instead the native Keras format, e.g. `model.save('my_model.keras')`.\n",
            "  saving_api.save_model(\n"
          ]
        }
      ]
    },
    {
      "cell_type": "code",
      "source": [
        "from google.colab import drive\n",
        "drive.mount('/content/drive')"
      ],
      "metadata": {
        "colab": {
          "base_uri": "https://localhost:8080/"
        },
        "id": "G0ndX29WL45H",
        "outputId": "d2f4311c-6fe1-4805-cedc-3c654e22636b"
      },
      "execution_count": 37,
      "outputs": [
        {
          "output_type": "stream",
          "name": "stdout",
          "text": [
            "Mounted at /content/drive\n"
          ]
        }
      ]
    },
    {
      "cell_type": "code",
      "source": [],
      "metadata": {
        "id": "hqxp3Gyhqvmh"
      },
      "execution_count": null,
      "outputs": []
    },
    {
      "cell_type": "code",
      "source": [],
      "metadata": {
        "id": "8aTI58w4qvUn"
      },
      "execution_count": null,
      "outputs": []
    }
  ]
}